{
 "cells": [
  {
   "cell_type": "markdown",
   "metadata": {},
   "source": [
    "## Finding best place for a new well by OilyGiant mining company"
   ]
  },
  {
   "cell_type": "markdown",
   "metadata": {},
   "source": [
    "### Steps to choose the location:\n",
    "1. Collect the oil well parameters in the selected region: oil quality and volume of reserves;\n",
    "2. Build a model for predicting the volume of reserves in the new wells;\n",
    "3. Pick the oil wells with the highest estimated values;\n",
    "4. Pick the region with the highest total profit for the selected oil wells.\n",
    "\n",
    "You have data on oil samples from three regions. \n",
    "Parameters of each oil well in the region are already known. \n",
    "Build a model that will help to pick the region with the highest profit margin. \n",
    "Analyze potential profit and risks using the Bootstrapping technique."
   ]
  },
  {
   "cell_type": "markdown",
   "metadata": {},
   "source": [
    "### Conditions:\n",
    "1. Only linear regression is suitable for model training (the rest are not sufficiently predictable).\n",
    "2. When exploring the region, a study of 500 points is carried with picking the best 200 points for the profit calculation.\n",
    "3. The budget for development of 200 oil wells is 100 USD million.\n",
    "4. One barrel of raw materials brings 4.5 USD of revenue The revenue from one unit of product is 4,500 dollars (volume of reserves is in thousand barrels).\n",
    "5. After the risk evaluation, keep only the regions with the risk of losses lower than 2.5%. From the ones that fit the criteria, the region with the highest average profit should be selected.\n",
    "6. The data is synthetic: contract details and well characteristics are not disclosed."
   ]
  },
  {
   "cell_type": "markdown",
   "metadata": {},
   "source": [
    "### Importing libraries"
   ]
  },
  {
   "cell_type": "code",
   "execution_count": 2,
   "metadata": {},
   "outputs": [],
   "source": [
    "import pandas as pd\n",
    "import math\n",
    "import numpy as np\n",
    "import seaborn as sns\n",
    "from sklearn.model_selection import train_test_split\n",
    "from sklearn.linear_model import LinearRegression \n",
    "from sklearn.metrics import mean_squared_error"
   ]
  },
  {
   "cell_type": "markdown",
   "metadata": {},
   "source": [
    "### 1. Download and prepare the data. Explain the procedure."
   ]
  },
  {
   "cell_type": "markdown",
   "metadata": {},
   "source": [
    "### Reading the csv files and preparing the data"
   ]
  },
  {
   "cell_type": "code",
   "execution_count": 3,
   "metadata": {},
   "outputs": [],
   "source": [
    "region1 = pd.read_csv('/datasets/geo_data_0.csv')\n",
    "region2 = pd.read_csv('/datasets/geo_data_1.csv')\n",
    "region3 = pd.read_csv('/datasets/geo_data_2.csv')"
   ]
  },
  {
   "cell_type": "code",
   "execution_count": 4,
   "metadata": {},
   "outputs": [
    {
     "name": "stdout",
     "output_type": "stream",
     "text": [
      "<class 'pandas.core.frame.DataFrame'>\n",
      "RangeIndex: 100000 entries, 0 to 99999\n",
      "Data columns (total 5 columns):\n",
      "id         100000 non-null object\n",
      "f0         100000 non-null float64\n",
      "f1         100000 non-null float64\n",
      "f2         100000 non-null float64\n",
      "product    100000 non-null float64\n",
      "dtypes: float64(4), object(1)\n",
      "memory usage: 3.8+ MB\n"
     ]
    }
   ],
   "source": [
    "region1.info()"
   ]
  },
  {
   "cell_type": "code",
   "execution_count": 5,
   "metadata": {},
   "outputs": [
    {
     "data": {
      "text/html": [
       "<div>\n",
       "<style scoped>\n",
       "    .dataframe tbody tr th:only-of-type {\n",
       "        vertical-align: middle;\n",
       "    }\n",
       "\n",
       "    .dataframe tbody tr th {\n",
       "        vertical-align: top;\n",
       "    }\n",
       "\n",
       "    .dataframe thead th {\n",
       "        text-align: right;\n",
       "    }\n",
       "</style>\n",
       "<table border=\"1\" class=\"dataframe\">\n",
       "  <thead>\n",
       "    <tr style=\"text-align: right;\">\n",
       "      <th></th>\n",
       "      <th>f0</th>\n",
       "      <th>f1</th>\n",
       "      <th>f2</th>\n",
       "      <th>product</th>\n",
       "    </tr>\n",
       "  </thead>\n",
       "  <tbody>\n",
       "    <tr>\n",
       "      <td>count</td>\n",
       "      <td>100000.000000</td>\n",
       "      <td>100000.000000</td>\n",
       "      <td>100000.000000</td>\n",
       "      <td>100000.000000</td>\n",
       "    </tr>\n",
       "    <tr>\n",
       "      <td>mean</td>\n",
       "      <td>0.500419</td>\n",
       "      <td>0.250143</td>\n",
       "      <td>2.502647</td>\n",
       "      <td>92.500000</td>\n",
       "    </tr>\n",
       "    <tr>\n",
       "      <td>std</td>\n",
       "      <td>0.871832</td>\n",
       "      <td>0.504433</td>\n",
       "      <td>3.248248</td>\n",
       "      <td>44.288691</td>\n",
       "    </tr>\n",
       "    <tr>\n",
       "      <td>min</td>\n",
       "      <td>-1.408605</td>\n",
       "      <td>-0.848218</td>\n",
       "      <td>-12.088328</td>\n",
       "      <td>0.000000</td>\n",
       "    </tr>\n",
       "    <tr>\n",
       "      <td>25%</td>\n",
       "      <td>-0.072580</td>\n",
       "      <td>-0.200881</td>\n",
       "      <td>0.287748</td>\n",
       "      <td>56.497507</td>\n",
       "    </tr>\n",
       "    <tr>\n",
       "      <td>50%</td>\n",
       "      <td>0.502360</td>\n",
       "      <td>0.250252</td>\n",
       "      <td>2.515969</td>\n",
       "      <td>91.849972</td>\n",
       "    </tr>\n",
       "    <tr>\n",
       "      <td>75%</td>\n",
       "      <td>1.073581</td>\n",
       "      <td>0.700646</td>\n",
       "      <td>4.715088</td>\n",
       "      <td>128.564089</td>\n",
       "    </tr>\n",
       "    <tr>\n",
       "      <td>max</td>\n",
       "      <td>2.362331</td>\n",
       "      <td>1.343769</td>\n",
       "      <td>16.003790</td>\n",
       "      <td>185.364347</td>\n",
       "    </tr>\n",
       "  </tbody>\n",
       "</table>\n",
       "</div>"
      ],
      "text/plain": [
       "                  f0             f1             f2        product\n",
       "count  100000.000000  100000.000000  100000.000000  100000.000000\n",
       "mean        0.500419       0.250143       2.502647      92.500000\n",
       "std         0.871832       0.504433       3.248248      44.288691\n",
       "min        -1.408605      -0.848218     -12.088328       0.000000\n",
       "25%        -0.072580      -0.200881       0.287748      56.497507\n",
       "50%         0.502360       0.250252       2.515969      91.849972\n",
       "75%         1.073581       0.700646       4.715088     128.564089\n",
       "max         2.362331       1.343769      16.003790     185.364347"
      ]
     },
     "execution_count": 5,
     "metadata": {},
     "output_type": "execute_result"
    }
   ],
   "source": [
    "region1.describe()"
   ]
  },
  {
   "cell_type": "code",
   "execution_count": 6,
   "metadata": {},
   "outputs": [
    {
     "name": "stdout",
     "output_type": "stream",
     "text": [
      "<class 'pandas.core.frame.DataFrame'>\n",
      "RangeIndex: 100000 entries, 0 to 99999\n",
      "Data columns (total 5 columns):\n",
      "id         100000 non-null object\n",
      "f0         100000 non-null float64\n",
      "f1         100000 non-null float64\n",
      "f2         100000 non-null float64\n",
      "product    100000 non-null float64\n",
      "dtypes: float64(4), object(1)\n",
      "memory usage: 3.8+ MB\n"
     ]
    }
   ],
   "source": [
    "region2.info()"
   ]
  },
  {
   "cell_type": "code",
   "execution_count": 7,
   "metadata": {},
   "outputs": [
    {
     "data": {
      "text/html": [
       "<div>\n",
       "<style scoped>\n",
       "    .dataframe tbody tr th:only-of-type {\n",
       "        vertical-align: middle;\n",
       "    }\n",
       "\n",
       "    .dataframe tbody tr th {\n",
       "        vertical-align: top;\n",
       "    }\n",
       "\n",
       "    .dataframe thead th {\n",
       "        text-align: right;\n",
       "    }\n",
       "</style>\n",
       "<table border=\"1\" class=\"dataframe\">\n",
       "  <thead>\n",
       "    <tr style=\"text-align: right;\">\n",
       "      <th></th>\n",
       "      <th>f0</th>\n",
       "      <th>f1</th>\n",
       "      <th>f2</th>\n",
       "      <th>product</th>\n",
       "    </tr>\n",
       "  </thead>\n",
       "  <tbody>\n",
       "    <tr>\n",
       "      <td>count</td>\n",
       "      <td>100000.000000</td>\n",
       "      <td>100000.000000</td>\n",
       "      <td>100000.000000</td>\n",
       "      <td>100000.000000</td>\n",
       "    </tr>\n",
       "    <tr>\n",
       "      <td>mean</td>\n",
       "      <td>1.141296</td>\n",
       "      <td>-4.796579</td>\n",
       "      <td>2.494541</td>\n",
       "      <td>68.825000</td>\n",
       "    </tr>\n",
       "    <tr>\n",
       "      <td>std</td>\n",
       "      <td>8.965932</td>\n",
       "      <td>5.119872</td>\n",
       "      <td>1.703572</td>\n",
       "      <td>45.944423</td>\n",
       "    </tr>\n",
       "    <tr>\n",
       "      <td>min</td>\n",
       "      <td>-31.609576</td>\n",
       "      <td>-26.358598</td>\n",
       "      <td>-0.018144</td>\n",
       "      <td>0.000000</td>\n",
       "    </tr>\n",
       "    <tr>\n",
       "      <td>25%</td>\n",
       "      <td>-6.298551</td>\n",
       "      <td>-8.267985</td>\n",
       "      <td>1.000021</td>\n",
       "      <td>26.953261</td>\n",
       "    </tr>\n",
       "    <tr>\n",
       "      <td>50%</td>\n",
       "      <td>1.153055</td>\n",
       "      <td>-4.813172</td>\n",
       "      <td>2.011479</td>\n",
       "      <td>57.085625</td>\n",
       "    </tr>\n",
       "    <tr>\n",
       "      <td>75%</td>\n",
       "      <td>8.621015</td>\n",
       "      <td>-1.332816</td>\n",
       "      <td>3.999904</td>\n",
       "      <td>107.813044</td>\n",
       "    </tr>\n",
       "    <tr>\n",
       "      <td>max</td>\n",
       "      <td>29.421755</td>\n",
       "      <td>18.734063</td>\n",
       "      <td>5.019721</td>\n",
       "      <td>137.945408</td>\n",
       "    </tr>\n",
       "  </tbody>\n",
       "</table>\n",
       "</div>"
      ],
      "text/plain": [
       "                  f0             f1             f2        product\n",
       "count  100000.000000  100000.000000  100000.000000  100000.000000\n",
       "mean        1.141296      -4.796579       2.494541      68.825000\n",
       "std         8.965932       5.119872       1.703572      45.944423\n",
       "min       -31.609576     -26.358598      -0.018144       0.000000\n",
       "25%        -6.298551      -8.267985       1.000021      26.953261\n",
       "50%         1.153055      -4.813172       2.011479      57.085625\n",
       "75%         8.621015      -1.332816       3.999904     107.813044\n",
       "max        29.421755      18.734063       5.019721     137.945408"
      ]
     },
     "execution_count": 7,
     "metadata": {},
     "output_type": "execute_result"
    }
   ],
   "source": [
    "region2.describe()"
   ]
  },
  {
   "cell_type": "code",
   "execution_count": 8,
   "metadata": {},
   "outputs": [
    {
     "name": "stdout",
     "output_type": "stream",
     "text": [
      "<class 'pandas.core.frame.DataFrame'>\n",
      "RangeIndex: 100000 entries, 0 to 99999\n",
      "Data columns (total 5 columns):\n",
      "id         100000 non-null object\n",
      "f0         100000 non-null float64\n",
      "f1         100000 non-null float64\n",
      "f2         100000 non-null float64\n",
      "product    100000 non-null float64\n",
      "dtypes: float64(4), object(1)\n",
      "memory usage: 3.8+ MB\n"
     ]
    }
   ],
   "source": [
    "region3.info()"
   ]
  },
  {
   "cell_type": "code",
   "execution_count": 9,
   "metadata": {},
   "outputs": [
    {
     "data": {
      "text/html": [
       "<div>\n",
       "<style scoped>\n",
       "    .dataframe tbody tr th:only-of-type {\n",
       "        vertical-align: middle;\n",
       "    }\n",
       "\n",
       "    .dataframe tbody tr th {\n",
       "        vertical-align: top;\n",
       "    }\n",
       "\n",
       "    .dataframe thead th {\n",
       "        text-align: right;\n",
       "    }\n",
       "</style>\n",
       "<table border=\"1\" class=\"dataframe\">\n",
       "  <thead>\n",
       "    <tr style=\"text-align: right;\">\n",
       "      <th></th>\n",
       "      <th>f0</th>\n",
       "      <th>f1</th>\n",
       "      <th>f2</th>\n",
       "      <th>product</th>\n",
       "    </tr>\n",
       "  </thead>\n",
       "  <tbody>\n",
       "    <tr>\n",
       "      <td>count</td>\n",
       "      <td>100000.000000</td>\n",
       "      <td>100000.000000</td>\n",
       "      <td>100000.000000</td>\n",
       "      <td>100000.000000</td>\n",
       "    </tr>\n",
       "    <tr>\n",
       "      <td>mean</td>\n",
       "      <td>0.002023</td>\n",
       "      <td>-0.002081</td>\n",
       "      <td>2.495128</td>\n",
       "      <td>95.000000</td>\n",
       "    </tr>\n",
       "    <tr>\n",
       "      <td>std</td>\n",
       "      <td>1.732045</td>\n",
       "      <td>1.730417</td>\n",
       "      <td>3.473445</td>\n",
       "      <td>44.749921</td>\n",
       "    </tr>\n",
       "    <tr>\n",
       "      <td>min</td>\n",
       "      <td>-8.760004</td>\n",
       "      <td>-7.084020</td>\n",
       "      <td>-11.970335</td>\n",
       "      <td>0.000000</td>\n",
       "    </tr>\n",
       "    <tr>\n",
       "      <td>25%</td>\n",
       "      <td>-1.162288</td>\n",
       "      <td>-1.174820</td>\n",
       "      <td>0.130359</td>\n",
       "      <td>59.450441</td>\n",
       "    </tr>\n",
       "    <tr>\n",
       "      <td>50%</td>\n",
       "      <td>0.009424</td>\n",
       "      <td>-0.009482</td>\n",
       "      <td>2.484236</td>\n",
       "      <td>94.925613</td>\n",
       "    </tr>\n",
       "    <tr>\n",
       "      <td>75%</td>\n",
       "      <td>1.158535</td>\n",
       "      <td>1.163678</td>\n",
       "      <td>4.858794</td>\n",
       "      <td>130.595027</td>\n",
       "    </tr>\n",
       "    <tr>\n",
       "      <td>max</td>\n",
       "      <td>7.238262</td>\n",
       "      <td>7.844801</td>\n",
       "      <td>16.739402</td>\n",
       "      <td>190.029838</td>\n",
       "    </tr>\n",
       "  </tbody>\n",
       "</table>\n",
       "</div>"
      ],
      "text/plain": [
       "                  f0             f1             f2        product\n",
       "count  100000.000000  100000.000000  100000.000000  100000.000000\n",
       "mean        0.002023      -0.002081       2.495128      95.000000\n",
       "std         1.732045       1.730417       3.473445      44.749921\n",
       "min        -8.760004      -7.084020     -11.970335       0.000000\n",
       "25%        -1.162288      -1.174820       0.130359      59.450441\n",
       "50%         0.009424      -0.009482       2.484236      94.925613\n",
       "75%         1.158535       1.163678       4.858794     130.595027\n",
       "max         7.238262       7.844801      16.739402     190.029838"
      ]
     },
     "execution_count": 9,
     "metadata": {},
     "output_type": "execute_result"
    }
   ],
   "source": [
    "region3.describe()"
   ]
  },
  {
   "cell_type": "markdown",
   "metadata": {},
   "source": [
    "##### Checked for datatypes and missing values. Nothing to be changed. Data looks good."
   ]
  },
  {
   "cell_type": "markdown",
   "metadata": {},
   "source": [
    "### 2. Train and test the model for each region:"
   ]
  },
  {
   "cell_type": "markdown",
   "metadata": {},
   "source": [
    "###### 2.1. Split the data into a training set and validation set at a ratio of 75:25."
   ]
  },
  {
   "cell_type": "code",
   "execution_count": 10,
   "metadata": {},
   "outputs": [
    {
     "name": "stdout",
     "output_type": "stream",
     "text": [
      "75000 25000\n"
     ]
    }
   ],
   "source": [
    "train_x1, test_x1, train_y1, test_y1 = train_test_split(region1.drop(columns = ['id', 'product']), region1['product'], test_size=0.25, random_state=12345)\n",
    "print(len(train_x1), len(test_x1))"
   ]
  },
  {
   "cell_type": "code",
   "execution_count": 11,
   "metadata": {},
   "outputs": [
    {
     "name": "stdout",
     "output_type": "stream",
     "text": [
      "75000 25000\n"
     ]
    }
   ],
   "source": [
    "train_x2, test_x2, train_y2, test_y2 = train_test_split(region2.drop(columns = ['id', 'product']), region2['product'], test_size=0.25, random_state=12345)\n",
    "print(len(train_x1), len(test_x1))"
   ]
  },
  {
   "cell_type": "code",
   "execution_count": 12,
   "metadata": {},
   "outputs": [
    {
     "name": "stdout",
     "output_type": "stream",
     "text": [
      "75000 25000\n"
     ]
    }
   ],
   "source": [
    "train_x3, test_x3, train_y3, test_y3 = train_test_split(region3.drop(columns = ['id', 'product']), region3['product'], test_size=0.25, random_state=12345)\n",
    "print(len(train_x1), len(test_x1))"
   ]
  },
  {
   "cell_type": "markdown",
   "metadata": {},
   "source": [
    "#### 2.2. Train the model and make predictions for the validation set"
   ]
  },
  {
   "cell_type": "code",
   "execution_count": 13,
   "metadata": {},
   "outputs": [
    {
     "data": {
      "text/plain": [
       "LinearRegression(copy_X=True, fit_intercept=True, n_jobs=None, normalize=False)"
      ]
     },
     "execution_count": 13,
     "metadata": {},
     "output_type": "execute_result"
    }
   ],
   "source": [
    "model1 = LinearRegression()\n",
    "model1.fit(train_x1, train_y1)"
   ]
  },
  {
   "cell_type": "code",
   "execution_count": 14,
   "metadata": {},
   "outputs": [
    {
     "data": {
      "text/plain": [
       "LinearRegression(copy_X=True, fit_intercept=True, n_jobs=None, normalize=False)"
      ]
     },
     "execution_count": 14,
     "metadata": {},
     "output_type": "execute_result"
    }
   ],
   "source": [
    "model2 = LinearRegression()\n",
    "model2.fit(train_x2, train_y2)"
   ]
  },
  {
   "cell_type": "code",
   "execution_count": 15,
   "metadata": {},
   "outputs": [
    {
     "data": {
      "text/plain": [
       "LinearRegression(copy_X=True, fit_intercept=True, n_jobs=None, normalize=False)"
      ]
     },
     "execution_count": 15,
     "metadata": {},
     "output_type": "execute_result"
    }
   ],
   "source": [
    "model3 = LinearRegression()\n",
    "model3.fit(train_x3, train_y3)"
   ]
  },
  {
   "cell_type": "markdown",
   "metadata": {},
   "source": [
    "#### 2.3. Save the predictions and correct answers for the validation set."
   ]
  },
  {
   "cell_type": "code",
   "execution_count": 16,
   "metadata": {},
   "outputs": [],
   "source": [
    "pred_1=model1.predict(test_x1)\n",
    "pred_2=model2.predict(test_x2)\n",
    "pred_3=model3.predict(test_x3)"
   ]
  },
  {
   "cell_type": "code",
   "execution_count": 17,
   "metadata": {},
   "outputs": [
    {
     "data": {
      "text/html": [
       "<div>\n",
       "<style scoped>\n",
       "    .dataframe tbody tr th:only-of-type {\n",
       "        vertical-align: middle;\n",
       "    }\n",
       "\n",
       "    .dataframe tbody tr th {\n",
       "        vertical-align: top;\n",
       "    }\n",
       "\n",
       "    .dataframe thead th {\n",
       "        text-align: right;\n",
       "    }\n",
       "</style>\n",
       "<table border=\"1\" class=\"dataframe\">\n",
       "  <thead>\n",
       "    <tr style=\"text-align: right;\">\n",
       "      <th></th>\n",
       "      <th>target</th>\n",
       "      <th>pred</th>\n",
       "    </tr>\n",
       "  </thead>\n",
       "  <tbody>\n",
       "    <tr>\n",
       "      <td>71751</td>\n",
       "      <td>10.038645</td>\n",
       "      <td>95.894952</td>\n",
       "    </tr>\n",
       "    <tr>\n",
       "      <td>80493</td>\n",
       "      <td>114.551489</td>\n",
       "      <td>77.572583</td>\n",
       "    </tr>\n",
       "    <tr>\n",
       "      <td>2655</td>\n",
       "      <td>132.603635</td>\n",
       "      <td>77.892640</td>\n",
       "    </tr>\n",
       "    <tr>\n",
       "      <td>53233</td>\n",
       "      <td>169.072125</td>\n",
       "      <td>90.175134</td>\n",
       "    </tr>\n",
       "    <tr>\n",
       "      <td>91141</td>\n",
       "      <td>122.325180</td>\n",
       "      <td>70.510088</td>\n",
       "    </tr>\n",
       "  </tbody>\n",
       "</table>\n",
       "</div>"
      ],
      "text/plain": [
       "           target       pred\n",
       "71751   10.038645  95.894952\n",
       "80493  114.551489  77.572583\n",
       "2655   132.603635  77.892640\n",
       "53233  169.072125  90.175134\n",
       "91141  122.325180  70.510088"
      ]
     },
     "execution_count": 17,
     "metadata": {},
     "output_type": "execute_result"
    }
   ],
   "source": [
    "profit_df1 = pd.DataFrame({\"target\": test_y1, \"pred\": pred_1})\n",
    "profit_df1.head()"
   ]
  },
  {
   "cell_type": "code",
   "execution_count": 18,
   "metadata": {},
   "outputs": [
    {
     "data": {
      "text/html": [
       "<div>\n",
       "<style scoped>\n",
       "    .dataframe tbody tr th:only-of-type {\n",
       "        vertical-align: middle;\n",
       "    }\n",
       "\n",
       "    .dataframe tbody tr th {\n",
       "        vertical-align: top;\n",
       "    }\n",
       "\n",
       "    .dataframe thead th {\n",
       "        text-align: right;\n",
       "    }\n",
       "</style>\n",
       "<table border=\"1\" class=\"dataframe\">\n",
       "  <thead>\n",
       "    <tr style=\"text-align: right;\">\n",
       "      <th></th>\n",
       "      <th>target</th>\n",
       "      <th>pred</th>\n",
       "    </tr>\n",
       "  </thead>\n",
       "  <tbody>\n",
       "    <tr>\n",
       "      <td>71751</td>\n",
       "      <td>80.859783</td>\n",
       "      <td>82.663314</td>\n",
       "    </tr>\n",
       "    <tr>\n",
       "      <td>80493</td>\n",
       "      <td>53.906522</td>\n",
       "      <td>54.431786</td>\n",
       "    </tr>\n",
       "    <tr>\n",
       "      <td>2655</td>\n",
       "      <td>30.132364</td>\n",
       "      <td>29.748760</td>\n",
       "    </tr>\n",
       "    <tr>\n",
       "      <td>53233</td>\n",
       "      <td>53.906522</td>\n",
       "      <td>53.552133</td>\n",
       "    </tr>\n",
       "    <tr>\n",
       "      <td>91141</td>\n",
       "      <td>0.000000</td>\n",
       "      <td>1.243856</td>\n",
       "    </tr>\n",
       "  </tbody>\n",
       "</table>\n",
       "</div>"
      ],
      "text/plain": [
       "          target       pred\n",
       "71751  80.859783  82.663314\n",
       "80493  53.906522  54.431786\n",
       "2655   30.132364  29.748760\n",
       "53233  53.906522  53.552133\n",
       "91141   0.000000   1.243856"
      ]
     },
     "execution_count": 18,
     "metadata": {},
     "output_type": "execute_result"
    }
   ],
   "source": [
    "profit_df2 = pd.DataFrame({\"target\": test_y2, \"pred\": pred_2})\n",
    "profit_df2.head()"
   ]
  },
  {
   "cell_type": "code",
   "execution_count": 19,
   "metadata": {},
   "outputs": [
    {
     "data": {
      "text/html": [
       "<div>\n",
       "<style scoped>\n",
       "    .dataframe tbody tr th:only-of-type {\n",
       "        vertical-align: middle;\n",
       "    }\n",
       "\n",
       "    .dataframe tbody tr th {\n",
       "        vertical-align: top;\n",
       "    }\n",
       "\n",
       "    .dataframe thead th {\n",
       "        text-align: right;\n",
       "    }\n",
       "</style>\n",
       "<table border=\"1\" class=\"dataframe\">\n",
       "  <thead>\n",
       "    <tr style=\"text-align: right;\">\n",
       "      <th></th>\n",
       "      <th>target</th>\n",
       "      <th>pred</th>\n",
       "    </tr>\n",
       "  </thead>\n",
       "  <tbody>\n",
       "    <tr>\n",
       "      <td>71751</td>\n",
       "      <td>61.212375</td>\n",
       "      <td>93.599633</td>\n",
       "    </tr>\n",
       "    <tr>\n",
       "      <td>80493</td>\n",
       "      <td>41.850118</td>\n",
       "      <td>75.105159</td>\n",
       "    </tr>\n",
       "    <tr>\n",
       "      <td>2655</td>\n",
       "      <td>57.776581</td>\n",
       "      <td>90.066809</td>\n",
       "    </tr>\n",
       "    <tr>\n",
       "      <td>53233</td>\n",
       "      <td>100.053761</td>\n",
       "      <td>105.162375</td>\n",
       "    </tr>\n",
       "    <tr>\n",
       "      <td>91141</td>\n",
       "      <td>109.897122</td>\n",
       "      <td>115.303310</td>\n",
       "    </tr>\n",
       "  </tbody>\n",
       "</table>\n",
       "</div>"
      ],
      "text/plain": [
       "           target        pred\n",
       "71751   61.212375   93.599633\n",
       "80493   41.850118   75.105159\n",
       "2655    57.776581   90.066809\n",
       "53233  100.053761  105.162375\n",
       "91141  109.897122  115.303310"
      ]
     },
     "execution_count": 19,
     "metadata": {},
     "output_type": "execute_result"
    }
   ],
   "source": [
    "profit_df3 = pd.DataFrame({\"target\": test_y3, \"pred\": pred_3})\n",
    "profit_df3.head()"
   ]
  },
  {
   "cell_type": "markdown",
   "metadata": {},
   "source": [
    "#### 2.4. Print the average volume of predicted reserves and model RMSE."
   ]
  },
  {
   "cell_type": "code",
   "execution_count": 20,
   "metadata": {},
   "outputs": [
    {
     "name": "stdout",
     "output_type": "stream",
     "text": [
      "Average Volume of Predicted Reserves for Region1 is 92.59256778438038\n",
      "Average Volume of Predicted Reserves for Region2 is 68.728546895446\n",
      "Average Volume of Predicted Reserves for Region3 is 94.96504596800489\n"
     ]
    }
   ],
   "source": [
    "mean1 = pred_1.mean()\n",
    "mean2 = pred_2.mean()\n",
    "mean3 = pred_3.mean()\n",
    "print(\"Average Volume of Predicted Reserves for Region1 is\", mean1)\n",
    "print(\"Average Volume of Predicted Reserves for Region2 is\", mean2)\n",
    "print(\"Average Volume of Predicted Reserves for Region3 is\", mean3)"
   ]
  },
  {
   "cell_type": "code",
   "execution_count": 21,
   "metadata": {},
   "outputs": [
    {
     "name": "stdout",
     "output_type": "stream",
     "text": [
      "RMSE for Region1 Model is 37.5794217150813\n",
      "RMSE for Region2 Model is 0.893099286775616\n",
      "RMSE for Region3 Model is 40.02970873393434\n"
     ]
    }
   ],
   "source": [
    "print(\"RMSE for Region1 Model is\", math.sqrt(mean_squared_error(test_y1 ,pred_1)))\n",
    "print(\"RMSE for Region2 Model is\", math.sqrt(mean_squared_error(test_y2 ,pred_2)))\n",
    "print(\"RMSE for Region3 Model is\", math.sqrt(mean_squared_error(test_y3 ,pred_3)))"
   ]
  },
  {
   "cell_type": "markdown",
   "metadata": {},
   "source": [
    "#### 2.5. Analyze the results."
   ]
  },
  {
   "cell_type": "markdown",
   "metadata": {},
   "source": [
    "RMSE value for model of region2 is low. Which shows model is predicting with good accuracy.\n",
    "\n",
    "While model Region1 and Region3 are performing. This behaviour is because of kind of data we have for each regions\n",
    "\n",
    "Mean value and RMSE of Region1 and Region3 are same."
   ]
  },
  {
   "cell_type": "markdown",
   "metadata": {},
   "source": [
    "#### Step3. Prepare for profit calculation:"
   ]
  },
  {
   "cell_type": "markdown",
   "metadata": {},
   "source": [
    "##### 3.1. Store all key values for calculations in separate variables."
   ]
  },
  {
   "cell_type": "code",
   "execution_count": 22,
   "metadata": {},
   "outputs": [],
   "source": [
    "Revenue_per_product = 4500\n",
    "No_wells = 200\n",
    "Sample_size=500\n",
    "Budget = 100000000"
   ]
  },
  {
   "cell_type": "markdown",
   "metadata": {},
   "source": [
    "The budget for development of 200 oil wells is 100 USD million.\n",
    "\n",
    "One barrel of raw materials brings 4.5 USD of revenue The revenue from one unit of product is 4,500 dollars (volume of reserves is in thousand barrels)."
   ]
  },
  {
   "cell_type": "markdown",
   "metadata": {},
   "source": [
    "#### 3.2. Calculate the volume of reserves sufficient for developing a new well without losses. Compare the obtained value with the average volume of reserves in each region."
   ]
  },
  {
   "cell_type": "markdown",
   "metadata": {},
   "source": [
    "For a developing 200 oil wells our budget is 100 USD million"
   ]
  },
  {
   "cell_type": "code",
   "execution_count": 23,
   "metadata": {},
   "outputs": [
    {
     "data": {
      "text/plain": [
       "500000.0"
      ]
     },
     "execution_count": 23,
     "metadata": {},
     "output_type": "execute_result"
    }
   ],
   "source": [
    "cost_pr_well = Budget/200\n",
    "cost_pr_well"
   ]
  },
  {
   "cell_type": "markdown",
   "metadata": {},
   "source": [
    "Lets Calculate the volume of reserves sufficient for developing a new well without losses. One Unit of product is giving us 4500USD so we we can say that we can get 4500USD/product.\n",
    "\n",
    "As we know that, profit = revenue - cost and we want to have profit>0 so revenue>cost\n",
    "\n",
    "if revenue == cost its our break no point for developing a new well without losses.\n",
    "\n",
    "The volume for such point can be calculated as below"
   ]
  },
  {
   "cell_type": "code",
   "execution_count": 24,
   "metadata": {},
   "outputs": [
    {
     "data": {
      "text/plain": [
       "111.11111111111111"
      ]
     },
     "execution_count": 24,
     "metadata": {},
     "output_type": "execute_result"
    }
   ],
   "source": [
    "break_even_vol = cost_pr_well/4500\n",
    "break_even_vol"
   ]
  },
  {
   "cell_type": "code",
   "execution_count": 25,
   "metadata": {},
   "outputs": [
    {
     "name": "stdout",
     "output_type": "stream",
     "text": [
      "Average Volume of Predicted Reserves for Region1 is 92.59256778438038\n",
      "Average Volume of Predicted Reserves for Region2 is 68.728546895446\n",
      "Average Volume of Predicted Reserves for Region3 is 94.96504596800489\n"
     ]
    }
   ],
   "source": [
    "print(\"Average Volume of Predicted Reserves for Region1 is\", mean1)\n",
    "print(\"Average Volume of Predicted Reserves for Region2 is\", mean2)\n",
    "print(\"Average Volume of Predicted Reserves for Region3 is\", mean3)"
   ]
  },
  {
   "cell_type": "markdown",
   "metadata": {},
   "source": [
    "#### 3.3. Provide the findings about the preparation for profit calculation step."
   ]
  },
  {
   "cell_type": "markdown",
   "metadata": {},
   "source": [
    "According to our model prediction,\n",
    "\n",
    "1. mean of region1 & region3 volume is 94.96504596800489 which is same to our break_even_vol which is 111.11, While region2 has very far mean value 68.728546895446 from break_even_vol.\n",
    "\n",
    "2. This shows that there more chances that if we choose region1 or region3 for wells, we will be in profit because it has mean value of Oil Volume closer to break even point.\n",
    "\n",
    "3. We can calculate profit by subtracting break_even_vol from vol of each regions and then multiply it with 4500 to get it in the USD, if it shows positive value, its our profit.\n",
    "\n",
    "4. Higher the positive value, Higher will be the profit. Our objective is to find region and wells with high profit"
   ]
  },
  {
   "cell_type": "markdown",
   "metadata": {},
   "source": [
    "### Step4. Write a function to calculate profit from a set of selected oil wells and model predictions:"
   ]
  },
  {
   "cell_type": "markdown",
   "metadata": {},
   "source": [
    "#### 4.1. Pick the wells with the highest values of predictions."
   ]
  },
  {
   "cell_type": "markdown",
   "metadata": {},
   "source": [
    "Lets take sample of 500 for each region and analyse data"
   ]
  },
  {
   "cell_type": "code",
   "execution_count": 32,
   "metadata": {},
   "outputs": [],
   "source": [
    "def sampler(df, sample_size=500):\n",
    "    target_sample1 = df['target'].sample(n=sample_size, replace=True)\n",
    "    pred_sample1 = df['pred'][target_sample1.index]\n",
    "    return target_sample1, pred_sample1\n",
    "state = np.random.RandomState(12345)"
   ]
  },
  {
   "cell_type": "markdown",
   "metadata": {},
   "source": [
    "<div class=\"alert alert-block alert-info\">\n",
    "<b>Improve: </b> It would be better if you use random_sate for sampling.\n",
    "</div>"
   ]
  },
  {
   "cell_type": "markdown",
   "metadata": {},
   "source": [
    "<div class=\"alert alert-block alert-info\">\n",
    "<b>Improve[3]: </b> Define here outside of function. And use for sample method.\n",
    "    \n",
    "    state = np.random.RandomState(12345)\n",
    "</div>"
   ]
  },
  {
   "cell_type": "markdown",
   "metadata": {},
   "source": [
    "<div class=\"alert alert-block alert-danger\">\n",
    "<b>Needs fixing[4]:</b> It's better to do it all the same, as I wrote above <br>\n",
    "    Please Define here outside of function. And use for sample method.\n",
    "    \n",
    "    \n",
    "    \n",
    "    state = np.random.RandomState(12345)\n",
    "                                       \n",
    "\n",
    "Your version is not suitable, because every time sample is split the same way and the sample does not become randomly normal distributed.\n",
    "    \n",
    "With this, the method that I propose will give different results when sampling, However, the result will be deterministic for each launch of the project.\n",
    "</div>"
   ]
  },
  {
   "cell_type": "code",
   "execution_count": 33,
   "metadata": {},
   "outputs": [
    {
     "data": {
      "text/plain": [
       "24596    156.498586\n",
       "32761    153.885412\n",
       "50884    152.216740\n",
       "54144    150.574800\n",
       "22260    149.836266\n",
       "1520     147.452642\n",
       "22507    146.462111\n",
       "21141    143.103286\n",
       "21130    142.880072\n",
       "17303    142.659784\n",
       "Name: pred, dtype: float64"
      ]
     },
     "execution_count": 33,
     "metadata": {},
     "output_type": "execute_result"
    }
   ],
   "source": [
    "target_sample1, pred_sample1 = sampler(profit_df1)\n",
    "pred_sample1.sort_values(ascending=False)[:10]"
   ]
  },
  {
   "cell_type": "code",
   "execution_count": 34,
   "metadata": {},
   "outputs": [
    {
     "data": {
      "text/plain": [
       "42661    139.431653\n",
       "56412    138.789576\n",
       "69016    138.510696\n",
       "15400    138.332665\n",
       "12233    138.240036\n",
       "59131    138.140655\n",
       "40738    138.059095\n",
       "64549    137.979081\n",
       "58417    137.818650\n",
       "51720    137.783169\n",
       "Name: pred, dtype: float64"
      ]
     },
     "execution_count": 34,
     "metadata": {},
     "output_type": "execute_result"
    }
   ],
   "source": [
    "target_sample2, pred_sample2 = sampler(profit_df2)\n",
    "pred_sample2.sort_values(ascending=False)[:10]"
   ]
  },
  {
   "cell_type": "code",
   "execution_count": 35,
   "metadata": {},
   "outputs": [
    {
     "data": {
      "text/plain": [
       "93243    148.635733\n",
       "85167    147.934272\n",
       "95798    146.308252\n",
       "69774    141.230758\n",
       "40380    141.102733\n",
       "75641    137.482113\n",
       "61870    136.493292\n",
       "3858     134.262050\n",
       "9417     134.087219\n",
       "30369    132.330856\n",
       "Name: pred, dtype: float64"
      ]
     },
     "execution_count": 35,
     "metadata": {},
     "output_type": "execute_result"
    }
   ],
   "source": [
    "target_sample3, pred_sample3 = sampler(profit_df3)\n",
    "pred_sample3.sort_values(ascending=False)[:10]"
   ]
  },
  {
   "cell_type": "markdown",
   "metadata": {},
   "source": [
    "region1 shows highest values in this samples"
   ]
  },
  {
   "cell_type": "markdown",
   "metadata": {},
   "source": [
    "### 4.2. Summarize the target volume of reserves in accordance with these predictions"
   ]
  },
  {
   "cell_type": "code",
   "execution_count": 36,
   "metadata": {},
   "outputs": [
    {
     "data": {
      "text/html": [
       "<div>\n",
       "<style scoped>\n",
       "    .dataframe tbody tr th:only-of-type {\n",
       "        vertical-align: middle;\n",
       "    }\n",
       "\n",
       "    .dataframe tbody tr th {\n",
       "        vertical-align: top;\n",
       "    }\n",
       "\n",
       "    .dataframe thead th {\n",
       "        text-align: right;\n",
       "    }\n",
       "</style>\n",
       "<table border=\"1\" class=\"dataframe\">\n",
       "  <thead>\n",
       "    <tr style=\"text-align: right;\">\n",
       "      <th></th>\n",
       "      <th>target</th>\n",
       "      <th>pred</th>\n",
       "    </tr>\n",
       "  </thead>\n",
       "  <tbody>\n",
       "    <tr>\n",
       "      <td>41488</td>\n",
       "      <td>42.339489</td>\n",
       "      <td>92.725714</td>\n",
       "    </tr>\n",
       "    <tr>\n",
       "      <td>19708</td>\n",
       "      <td>84.747601</td>\n",
       "      <td>104.465137</td>\n",
       "    </tr>\n",
       "    <tr>\n",
       "      <td>57031</td>\n",
       "      <td>138.599784</td>\n",
       "      <td>87.147522</td>\n",
       "    </tr>\n",
       "    <tr>\n",
       "      <td>55474</td>\n",
       "      <td>32.109909</td>\n",
       "      <td>37.495431</td>\n",
       "    </tr>\n",
       "    <tr>\n",
       "      <td>75006</td>\n",
       "      <td>26.726084</td>\n",
       "      <td>85.875976</td>\n",
       "    </tr>\n",
       "    <tr>\n",
       "      <td>89350</td>\n",
       "      <td>39.581235</td>\n",
       "      <td>64.232844</td>\n",
       "    </tr>\n",
       "    <tr>\n",
       "      <td>34439</td>\n",
       "      <td>7.032617</td>\n",
       "      <td>61.334552</td>\n",
       "    </tr>\n",
       "    <tr>\n",
       "      <td>57774</td>\n",
       "      <td>173.570587</td>\n",
       "      <td>124.829199</td>\n",
       "    </tr>\n",
       "    <tr>\n",
       "      <td>3304</td>\n",
       "      <td>155.259875</td>\n",
       "      <td>112.881884</td>\n",
       "    </tr>\n",
       "    <tr>\n",
       "      <td>54276</td>\n",
       "      <td>36.203604</td>\n",
       "      <td>60.472858</td>\n",
       "    </tr>\n",
       "  </tbody>\n",
       "</table>\n",
       "</div>"
      ],
      "text/plain": [
       "           target        pred\n",
       "41488   42.339489   92.725714\n",
       "19708   84.747601  104.465137\n",
       "57031  138.599784   87.147522\n",
       "55474   32.109909   37.495431\n",
       "75006   26.726084   85.875976\n",
       "89350   39.581235   64.232844\n",
       "34439    7.032617   61.334552\n",
       "57774  173.570587  124.829199\n",
       "3304   155.259875  112.881884\n",
       "54276   36.203604   60.472858"
      ]
     },
     "execution_count": 36,
     "metadata": {},
     "output_type": "execute_result"
    }
   ],
   "source": [
    "pd.DataFrame({'target': target_sample1, 'pred': pred_sample1}).head(10)"
   ]
  },
  {
   "cell_type": "code",
   "execution_count": 37,
   "metadata": {},
   "outputs": [
    {
     "data": {
      "text/html": [
       "<div>\n",
       "<style scoped>\n",
       "    .dataframe tbody tr th:only-of-type {\n",
       "        vertical-align: middle;\n",
       "    }\n",
       "\n",
       "    .dataframe tbody tr th {\n",
       "        vertical-align: top;\n",
       "    }\n",
       "\n",
       "    .dataframe thead th {\n",
       "        text-align: right;\n",
       "    }\n",
       "</style>\n",
       "<table border=\"1\" class=\"dataframe\">\n",
       "  <thead>\n",
       "    <tr style=\"text-align: right;\">\n",
       "      <th></th>\n",
       "      <th>target</th>\n",
       "      <th>pred</th>\n",
       "    </tr>\n",
       "  </thead>\n",
       "  <tbody>\n",
       "    <tr>\n",
       "      <td>30757</td>\n",
       "      <td>26.953261</td>\n",
       "      <td>29.264150</td>\n",
       "    </tr>\n",
       "    <tr>\n",
       "      <td>27362</td>\n",
       "      <td>137.945408</td>\n",
       "      <td>136.672908</td>\n",
       "    </tr>\n",
       "    <tr>\n",
       "      <td>89747</td>\n",
       "      <td>110.992147</td>\n",
       "      <td>110.528726</td>\n",
       "    </tr>\n",
       "    <tr>\n",
       "      <td>78958</td>\n",
       "      <td>53.906522</td>\n",
       "      <td>54.433557</td>\n",
       "    </tr>\n",
       "    <tr>\n",
       "      <td>5825</td>\n",
       "      <td>57.085625</td>\n",
       "      <td>57.496874</td>\n",
       "    </tr>\n",
       "    <tr>\n",
       "      <td>97586</td>\n",
       "      <td>0.000000</td>\n",
       "      <td>1.324386</td>\n",
       "    </tr>\n",
       "    <tr>\n",
       "      <td>73491</td>\n",
       "      <td>57.085625</td>\n",
       "      <td>56.445887</td>\n",
       "    </tr>\n",
       "    <tr>\n",
       "      <td>83985</td>\n",
       "      <td>3.179103</td>\n",
       "      <td>2.356640</td>\n",
       "    </tr>\n",
       "    <tr>\n",
       "      <td>67284</td>\n",
       "      <td>110.992147</td>\n",
       "      <td>111.313997</td>\n",
       "    </tr>\n",
       "    <tr>\n",
       "      <td>45281</td>\n",
       "      <td>107.813044</td>\n",
       "      <td>108.456210</td>\n",
       "    </tr>\n",
       "  </tbody>\n",
       "</table>\n",
       "</div>"
      ],
      "text/plain": [
       "           target        pred\n",
       "30757   26.953261   29.264150\n",
       "27362  137.945408  136.672908\n",
       "89747  110.992147  110.528726\n",
       "78958   53.906522   54.433557\n",
       "5825    57.085625   57.496874\n",
       "97586    0.000000    1.324386\n",
       "73491   57.085625   56.445887\n",
       "83985    3.179103    2.356640\n",
       "67284  110.992147  111.313997\n",
       "45281  107.813044  108.456210"
      ]
     },
     "execution_count": 37,
     "metadata": {},
     "output_type": "execute_result"
    }
   ],
   "source": [
    "pd.DataFrame({'target': target_sample2, 'pred': pred_sample2}).head(10)"
   ]
  },
  {
   "cell_type": "code",
   "execution_count": 38,
   "metadata": {},
   "outputs": [
    {
     "data": {
      "text/html": [
       "<div>\n",
       "<style scoped>\n",
       "    .dataframe tbody tr th:only-of-type {\n",
       "        vertical-align: middle;\n",
       "    }\n",
       "\n",
       "    .dataframe tbody tr th {\n",
       "        vertical-align: top;\n",
       "    }\n",
       "\n",
       "    .dataframe thead th {\n",
       "        text-align: right;\n",
       "    }\n",
       "</style>\n",
       "<table border=\"1\" class=\"dataframe\">\n",
       "  <thead>\n",
       "    <tr style=\"text-align: right;\">\n",
       "      <th></th>\n",
       "      <th>target</th>\n",
       "      <th>pred</th>\n",
       "    </tr>\n",
       "  </thead>\n",
       "  <tbody>\n",
       "    <tr>\n",
       "      <td>81790</td>\n",
       "      <td>82.203084</td>\n",
       "      <td>79.294029</td>\n",
       "    </tr>\n",
       "    <tr>\n",
       "      <td>30436</td>\n",
       "      <td>52.780825</td>\n",
       "      <td>65.702134</td>\n",
       "    </tr>\n",
       "    <tr>\n",
       "      <td>3512</td>\n",
       "      <td>132.565604</td>\n",
       "      <td>115.366624</td>\n",
       "    </tr>\n",
       "    <tr>\n",
       "      <td>66836</td>\n",
       "      <td>136.015662</td>\n",
       "      <td>118.532236</td>\n",
       "    </tr>\n",
       "    <tr>\n",
       "      <td>78963</td>\n",
       "      <td>91.809712</td>\n",
       "      <td>81.642559</td>\n",
       "    </tr>\n",
       "    <tr>\n",
       "      <td>14837</td>\n",
       "      <td>110.185722</td>\n",
       "      <td>109.077482</td>\n",
       "    </tr>\n",
       "    <tr>\n",
       "      <td>75262</td>\n",
       "      <td>152.584849</td>\n",
       "      <td>117.544937</td>\n",
       "    </tr>\n",
       "    <tr>\n",
       "      <td>54989</td>\n",
       "      <td>72.236258</td>\n",
       "      <td>79.824091</td>\n",
       "    </tr>\n",
       "    <tr>\n",
       "      <td>49238</td>\n",
       "      <td>171.500268</td>\n",
       "      <td>126.064265</td>\n",
       "    </tr>\n",
       "    <tr>\n",
       "      <td>78896</td>\n",
       "      <td>159.861493</td>\n",
       "      <td>114.888850</td>\n",
       "    </tr>\n",
       "  </tbody>\n",
       "</table>\n",
       "</div>"
      ],
      "text/plain": [
       "           target        pred\n",
       "81790   82.203084   79.294029\n",
       "30436   52.780825   65.702134\n",
       "3512   132.565604  115.366624\n",
       "66836  136.015662  118.532236\n",
       "78963   91.809712   81.642559\n",
       "14837  110.185722  109.077482\n",
       "75262  152.584849  117.544937\n",
       "54989   72.236258   79.824091\n",
       "49238  171.500268  126.064265\n",
       "78896  159.861493  114.888850"
      ]
     },
     "execution_count": 38,
     "metadata": {},
     "output_type": "execute_result"
    }
   ],
   "source": [
    "pd.DataFrame({'target': target_sample3, 'pred': pred_sample3}).head(10)"
   ]
  },
  {
   "cell_type": "markdown",
   "metadata": {},
   "source": [
    "Above observations shows that,\n",
    "\n",
    "For region2 target value and prediction values are very closer.                                                                 \n",
    "For region1 and region3 predictions are bit deviated from original feature values.                                             \n",
    "This shows that for profit calculation we should use target values.                                                         "
   ]
  },
  {
   "cell_type": "markdown",
   "metadata": {},
   "source": [
    "### 4.3. Provide findings: suggest a region for oil wells' development and justify the choice. Calculate the profit for the obtained volume of reserves."
   ]
  },
  {
   "cell_type": "code",
   "execution_count": 39,
   "metadata": {},
   "outputs": [],
   "source": [
    "def profit(target, predict, budget=100000000):\n",
    "    top_predictions = predict.sort_values(ascending=False)\n",
    "    top_targets = target[top_predictions.index][:200]\n",
    "    revenue = sum(top_targets)*4500\n",
    "    profit = revenue - budget\n",
    "    return profit"
   ]
  },
  {
   "cell_type": "code",
   "execution_count": 40,
   "metadata": {},
   "outputs": [
    {
     "name": "stdout",
     "output_type": "stream",
     "text": [
      "Total Profit for region1: 3528985.387815401\n",
      "Total Profit for region2: 4591507.434558511\n",
      "Total Profit for region3: 5933033.6037658155\n"
     ]
    }
   ],
   "source": [
    "print(\"Total Profit for region1:\", profit(target_sample1, pred_sample1))\n",
    "print(\"Total Profit for region2:\", profit(target_sample2, pred_sample2))\n",
    "print(\"Total Profit for region3:\", profit(target_sample3, pred_sample3))"
   ]
  },
  {
   "cell_type": "markdown",
   "metadata": {},
   "source": [
    "#### This shows region1 is having high profit. Lets try bootstrapping to get more accurate results."
   ]
  },
  {
   "cell_type": "markdown",
   "metadata": {},
   "source": [
    "## Step5: Calculate risks and profit for each region:"
   ]
  },
  {
   "cell_type": "markdown",
   "metadata": {},
   "source": [
    "### 5.1. Use the bootstrapping technique with 1000 samples to find the distribution of profit."
   ]
  },
  {
   "cell_type": "code",
   "execution_count": 41,
   "metadata": {},
   "outputs": [],
   "source": [
    "def bootstrapper(df, samples=1000, subsamples=500):\n",
    "    values = []\n",
    "    for i in range(samples):\n",
    "        target_sample, pred_sample = sampler(df, subsamples)\n",
    "        values.append(profit(target_sample, pred_sample))\n",
    "    return values"
   ]
  },
  {
   "cell_type": "markdown",
   "metadata": {},
   "source": [
    "#### Region1:"
   ]
  },
  {
   "cell_type": "code",
   "execution_count": 42,
   "metadata": {},
   "outputs": [
    {
     "data": {
      "text/plain": [
       "<matplotlib.axes._subplots.AxesSubplot at 0x7f8077ab7190>"
      ]
     },
     "execution_count": 42,
     "metadata": {},
     "output_type": "execute_result"
    },
    {
     "data": {
      "image/png": "[encoded data removed]",
      "text/plain": [
       "<Figure size 432x288 with 1 Axes>"
      ]
     },
     "metadata": {
      "needs_background": "light"
     },
     "output_type": "display_data"
    }
   ],
   "source": [
    "values_r1 = bootstrapper(profit_df1, samples=1000, subsamples=500)\n",
    "sns.distplot(values_r1)"
   ]
  },
  {
   "cell_type": "markdown",
   "metadata": {},
   "source": [
    "#### Region2: "
   ]
  },
  {
   "cell_type": "code",
   "execution_count": 43,
   "metadata": {},
   "outputs": [
    {
     "data": {
      "text/plain": [
       "<matplotlib.axes._subplots.AxesSubplot at 0x7f80779ccd50>"
      ]
     },
     "execution_count": 43,
     "metadata": {},
     "output_type": "execute_result"
    },
    {
     "data": {
      "image/png": "[encoded data removed]",
      "text/plain": [
       "<Figure size 432x288 with 1 Axes>"
      ]
     },
     "metadata": {
      "needs_background": "light"
     },
     "output_type": "display_data"
    }
   ],
   "source": [
    "values_r2 = bootstrapper(profit_df2, samples=1000, subsamples=500)\n",
    "sns.distplot(values_r2)"
   ]
  },
  {
   "cell_type": "markdown",
   "metadata": {},
   "source": [
    "#### Region3:"
   ]
  },
  {
   "cell_type": "code",
   "execution_count": 44,
   "metadata": {},
   "outputs": [
    {
     "data": {
      "text/plain": [
       "<matplotlib.axes._subplots.AxesSubplot at 0x7f80778ad4d0>"
      ]
     },
     "execution_count": 44,
     "metadata": {},
     "output_type": "execute_result"
    },
    {
     "data": {
      "image/png": "[encoded data removed]",
      "text/plain": [
       "<Figure size 432x288 with 1 Axes>"
      ]
     },
     "metadata": {
      "needs_background": "light"
     },
     "output_type": "display_data"
    }
   ],
   "source": [
    "values_r3 = bootstrapper(profit_df3, samples=1000, subsamples=500)\n",
    "sns.distplot(values_r3)"
   ]
  },
  {
   "cell_type": "markdown",
   "metadata": {},
   "source": []
  },
  {
   "cell_type": "markdown",
   "metadata": {},
   "source": [
    "### 5.2. Find average profit, 95% confidence interval and risk of losses. Loss is negative profit, calculate it as a probability and then express as a percentage."
   ]
  },
  {
   "cell_type": "markdown",
   "metadata": {},
   "source": [
    "Lets find Average Profit,"
   ]
  },
  {
   "cell_type": "code",
   "execution_count": 45,
   "metadata": {},
   "outputs": [],
   "source": [
    "values_r1 = pd.Series(values_r1)\n",
    "values_r2 = pd.Series(values_r2)\n",
    "values_r3 = pd.Series(values_r3)"
   ]
  },
  {
   "cell_type": "code",
   "execution_count": 46,
   "metadata": {
    "scrolled": true
   },
   "outputs": [
    {
     "name": "stdout",
     "output_type": "stream",
     "text": [
      "For Region1 mean values of profit: 4136264.5137122944\n",
      "For Region2 mean values of profit: 5111243.642372453\n",
      "For Region3 mean values of profit: 4048055.1847328884\n"
     ]
    }
   ],
   "source": [
    "avg_profit_1=values_r1.mean()\n",
    "avg_profit_2=values_r2.mean()\n",
    "avg_profit_3=values_r3.mean()\n",
    "print(\"For Region1 mean values of profit:\",avg_profit_1)\n",
    "print(\"For Region2 mean values of profit:\",avg_profit_2)\n",
    "print(\"For Region3 mean values of profit:\",avg_profit_3)"
   ]
  },
  {
   "cell_type": "markdown",
   "metadata": {},
   "source": [
    "According to the above observations we can say that region2 will give us more profit\n",
    "\n",
    "Lets find 95% Confidence Interval,"
   ]
  },
  {
   "cell_type": "code",
   "execution_count": 47,
   "metadata": {},
   "outputs": [],
   "source": [
    "def conf_in_finder(values, conf=0.95):\n",
    "    c = (1-conf)/2\n",
    "    lower = values.quantile(c)\n",
    "    upper = values.quantile(1-c)\n",
    "    return (lower, upper)"
   ]
  },
  {
   "cell_type": "code",
   "execution_count": 48,
   "metadata": {},
   "outputs": [
    {
     "name": "stdout",
     "output_type": "stream",
     "text": [
      "95% Confidence Interval for Region1 is (-1550415.7090607523, 9562928.282445088)\n",
      "95% Confidence Interval for Region2 is (887398.520785328, 9036587.410685709)\n",
      "95% Confidence Interval for Region3 is (-1647395.250754712, 9757547.788039552)\n"
     ]
    }
   ],
   "source": [
    "print(\"95% Confidence Interval for Region1 is\", conf_in_finder(values_r1))\n",
    "print(\"95% Confidence Interval for Region2 is\", conf_in_finder(values_r2))\n",
    "print(\"95% Confidence Interval for Region3 is\", conf_in_finder(values_r3))"
   ]
  },
  {
   "cell_type": "markdown",
   "metadata": {},
   "source": [
    "For Region2 lower confidence limit is Positive, While other Regions has Negative confidence Limit         \n",
    "Region2 upper confidence limit is Lower compare to other regions"
   ]
  },
  {
   "cell_type": "markdown",
   "metadata": {},
   "source": [
    "Lets find risk of loss,"
   ]
  },
  {
   "cell_type": "code",
   "execution_count": 49,
   "metadata": {},
   "outputs": [],
   "source": [
    "def ROL_finder(values):\n",
    "    return (sum(values<0)/len(values))*100"
   ]
  },
  {
   "cell_type": "code",
   "execution_count": 50,
   "metadata": {},
   "outputs": [
    {
     "name": "stdout",
     "output_type": "stream",
     "text": [
      "Risk of Loss for Region1 is 7.1\n",
      "Risk of Loss for Region2 is 1.0\n",
      "Risk of Loss for Region3 is 8.799999999999999\n"
     ]
    }
   ],
   "source": [
    "print(\"Risk of Loss for Region1 is\", ROL_finder(values_r1))\n",
    "print(\"Risk of Loss for Region2 is\", ROL_finder(values_r2))\n",
    "print(\"Risk of Loss for Region3 is\", ROL_finder(values_r3))"
   ]
  },
  {
   "cell_type": "markdown",
   "metadata": {},
   "source": [
    "Considering the business condition that we can only keep the regions with the risk of losses lower than 2.5%, Region 2 has less risk of 1.0% - i would suggest region 2 for development of oil wells."
   ]
  },
  {
   "cell_type": "markdown",
   "metadata": {},
   "source": [
    "### 5.3. Provide findings: suggest a region for development of oil wells and justify the choice."
   ]
  },
  {
   "cell_type": "markdown",
   "metadata": {},
   "source": [
    "According to our Analysis,"
   ]
  },
  {
   "cell_type": "markdown",
   "metadata": {},
   "source": [
    "Region2 gives better profit compare to other two regions.                                                                       \n",
    "Based on the condition risk of losses lower than 2.5%, region 2 satisfy the condition.                               \n",
    "I would suggest region2 for new development of oil wells. "
   ]
  }
 ],
 "metadata": {
  "kernelspec": {
   "display_name": "Python 3 (ipykernel)",
   "language": "python",
   "name": "python3"
  },
  "language_info": {
   "codemirror_mode": {
    "name": "ipython",
    "version": 3
   },
   "file_extension": ".py",
   "mimetype": "text/x-python",
   "name": "python",
   "nbconvert_exporter": "python",
   "pygments_lexer": "ipython3",
   "version": "3.9.5"
  },
  "toc": {
   "base_numbering": 1,
   "nav_menu": {},
   "number_sections": true,
   "sideBar": true,
   "skip_h1_title": true,
   "title_cell": "Table of Contents",
   "title_sidebar": "Contents",
   "toc_cell": false,
   "toc_position": {},
   "toc_section_display": true,
   "toc_window_display": false
  }
 },
 "nbformat": 4,
 "nbformat_minor": 2
}
